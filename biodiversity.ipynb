{
 "cells": [
  {
   "cell_type": "markdown",
   "metadata": {},
   "source": [
    "# Biodiversity data - Codecademy Portfolio Project\n"
   ]
  },
  {
   "cell_type": "markdown",
   "metadata": {},
   "source": [
    "### Import Python Libraries"
   ]
  },
  {
   "cell_type": "code",
   "execution_count": 7,
   "metadata": {},
   "outputs": [],
   "source": [
    "import pandas as pd\n",
    "import numpy as np\n",
    "import matplotlib.pyplot as plt\n",
    "import seaborn as sns\n",
    "from IPython.display import display\n",
    "from tabulate import tabulate"
   ]
  },
  {
   "cell_type": "markdown",
   "metadata": {},
   "source": [
    "## Data file species_info.csv\n",
    "\n",
    "### Load"
   ]
  },
  {
   "cell_type": "code",
   "execution_count": 14,
   "metadata": {},
   "outputs": [
    {
     "name": "stdout",
     "output_type": "stream",
     "text": [
      "+---+----------+-------------------------------+----------------------------------------------------------------+---------------------+\n",
      "|   | category |        scientific_name        |                          common_names                          | conservation_status |\n",
      "+---+----------+-------------------------------+----------------------------------------------------------------+---------------------+\n",
      "| 0 |  Mammal  | Clethrionomys gapperi gapperi |                    Gapper's Red-Backed Vole                    |         nan         |\n",
      "| 1 |  Mammal  |           Bos bison           |                     American Bison, Bison                      |         nan         |\n",
      "| 2 |  Mammal  |          Bos taurus           | Aurochs, Aurochs, Domestic Cattle (Feral), Domesticated Cattle |         nan         |\n",
      "| 3 |  Mammal  |          Ovis aries           |       Domestic Sheep, Mouflon, Red Sheep, Sheep (Feral)        |         nan         |\n",
      "| 4 |  Mammal  |        Cervus elaphus         |                         Wapiti Or Elk                          |         nan         |\n",
      "+---+----------+-------------------------------+----------------------------------------------------------------+---------------------+\n"
     ]
    }
   ],
   "source": [
    "species_info = pd.read_csv('species_info.csv')\n",
    "print(tabulate(species_info.head(), headers='keys', tablefmt='pretty'))\n",
    "# observations = pd.read_csv('observations.csv')\n",
    "# observations.head()"
   ]
  }
 ],
 "metadata": {
  "kernelspec": {
   "display_name": "Python 3",
   "language": "python",
   "name": "python3"
  },
  "language_info": {
   "codemirror_mode": {
    "name": "ipython",
    "version": 3
   },
   "file_extension": ".py",
   "mimetype": "text/x-python",
   "name": "python",
   "nbconvert_exporter": "python",
   "pygments_lexer": "ipython3",
   "version": "3.12.10"
  }
 },
 "nbformat": 4,
 "nbformat_minor": 4
}

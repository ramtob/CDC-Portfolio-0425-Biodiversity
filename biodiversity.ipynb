{
 "cells": [
  {
   "cell_type": "markdown",
   "metadata": {},
   "source": [
    "# Biodiversity data - Codecademy Portfolio Project\n",
    "\n",
    "We will be exploring two CSV files:\n",
    "\n",
    "* species_info.csv - contains data about different species and their conservation status\n",
    "* observations.csv - holds recorded sightings of different species at several national parks for the past 7 days.\n",
    "\n",
    "species_info.csv:\n",
    "\n",
    "* category - class of animal\n",
    "* scientific_name - the scientific name of each species\n",
    "* common_name - the common names of each species\n",
    "* conservation_status - each species’ current conservation status\n",
    "\n",
    "observations.csv:\n",
    "\n",
    "* scientific_name - the scientific name of each species\n",
    "* park_name - Park where species were found\n",
    "* observations - the number of times each species was observed at park"
   ]
  },
  {
   "cell_type": "markdown",
   "metadata": {},
   "source": [
    "### Import Python Libraries"
   ]
  },
  {
   "cell_type": "code",
   "execution_count": 7,
   "metadata": {},
   "outputs": [],
   "source": [
    "import pandas as pd\n",
    "import numpy as np\n",
    "import matplotlib.pyplot as plt\n",
    "import seaborn as sns\n",
    "from IPython.display import display\n",
    "from tabulate import tabulate"
   ]
  },
  {
   "cell_type": "markdown",
   "metadata": {},
   "source": [
    "## Data file species_info.csv\n",
    "\n",
    "### Loading"
   ]
  },
  {
   "cell_type": "code",
   "execution_count": 20,
   "metadata": {},
   "outputs": [
    {
     "data": {
      "text/html": [
       "<div>\n",
       "<style scoped>\n",
       "    .dataframe tbody tr th:only-of-type {\n",
       "        vertical-align: middle;\n",
       "    }\n",
       "\n",
       "    .dataframe tbody tr th {\n",
       "        vertical-align: top;\n",
       "    }\n",
       "\n",
       "    .dataframe thead th {\n",
       "        text-align: right;\n",
       "    }\n",
       "</style>\n",
       "<table border=\"1\" class=\"dataframe\">\n",
       "  <thead>\n",
       "    <tr style=\"text-align: right;\">\n",
       "      <th></th>\n",
       "      <th>category</th>\n",
       "      <th>scientific_name</th>\n",
       "      <th>common_names</th>\n",
       "      <th>conservation_status</th>\n",
       "    </tr>\n",
       "  </thead>\n",
       "  <tbody>\n",
       "    <tr>\n",
       "      <th>0</th>\n",
       "      <td>Mammal</td>\n",
       "      <td>Clethrionomys gapperi gapperi</td>\n",
       "      <td>Gapper's Red-Backed Vole</td>\n",
       "      <td>NaN</td>\n",
       "    </tr>\n",
       "    <tr>\n",
       "      <th>1</th>\n",
       "      <td>Mammal</td>\n",
       "      <td>Bos bison</td>\n",
       "      <td>American Bison, Bison</td>\n",
       "      <td>NaN</td>\n",
       "    </tr>\n",
       "    <tr>\n",
       "      <th>2</th>\n",
       "      <td>Mammal</td>\n",
       "      <td>Bos taurus</td>\n",
       "      <td>Aurochs, Aurochs, Domestic Cattle (Feral), Dom...</td>\n",
       "      <td>NaN</td>\n",
       "    </tr>\n",
       "    <tr>\n",
       "      <th>3</th>\n",
       "      <td>Mammal</td>\n",
       "      <td>Ovis aries</td>\n",
       "      <td>Domestic Sheep, Mouflon, Red Sheep, Sheep (Feral)</td>\n",
       "      <td>NaN</td>\n",
       "    </tr>\n",
       "    <tr>\n",
       "      <th>4</th>\n",
       "      <td>Mammal</td>\n",
       "      <td>Cervus elaphus</td>\n",
       "      <td>Wapiti Or Elk</td>\n",
       "      <td>NaN</td>\n",
       "    </tr>\n",
       "  </tbody>\n",
       "</table>\n",
       "</div>"
      ],
      "text/plain": [
       "  category                scientific_name  \\\n",
       "0   Mammal  Clethrionomys gapperi gapperi   \n",
       "1   Mammal                      Bos bison   \n",
       "2   Mammal                     Bos taurus   \n",
       "3   Mammal                     Ovis aries   \n",
       "4   Mammal                 Cervus elaphus   \n",
       "\n",
       "                                        common_names conservation_status  \n",
       "0                           Gapper's Red-Backed Vole                 NaN  \n",
       "1                              American Bison, Bison                 NaN  \n",
       "2  Aurochs, Aurochs, Domestic Cattle (Feral), Dom...                 NaN  \n",
       "3  Domestic Sheep, Mouflon, Red Sheep, Sheep (Feral)                 NaN  \n",
       "4                                      Wapiti Or Elk                 NaN  "
      ]
     },
     "metadata": {},
     "output_type": "display_data"
    }
   ],
   "source": [
    "species_info = pd.read_csv('species_info.csv')\n",
    "# print(tabulate(species_info.head(), headers='keys', tablefmt='pretty'))\n",
    "display(species_info.head())\n",
    "# observations = pd.read_csv('observations.csv')\n",
    "# observations.head()"
   ]
  },
  {
   "cell_type": "markdown",
   "metadata": {},
   "source": [
    "### Columns data types and counts"
   ]
  },
  {
   "cell_type": "code",
   "execution_count": 29,
   "metadata": {},
   "outputs": [
    {
     "name": "stdout",
     "output_type": "stream",
     "text": [
      "<class 'pandas.core.frame.DataFrame'>\n",
      "RangeIndex: 5824 entries, 0 to 5823\n",
      "Data columns (total 4 columns):\n",
      " #   Column               Non-Null Count  Dtype \n",
      "---  ------               --------------  ----- \n",
      " 0   category             5824 non-null   object\n",
      " 1   scientific_name      5824 non-null   object\n",
      " 2   common_names         5824 non-null   object\n",
      " 3   conservation_status  191 non-null    object\n",
      "dtypes: object(4)\n",
      "memory usage: 182.1+ KB\n"
     ]
    }
   ],
   "source": [
    "species_info.info()"
   ]
  },
  {
   "cell_type": "code",
   "execution_count": 46,
   "metadata": {},
   "outputs": [
    {
     "name": "stdout",
     "output_type": "stream",
     "text": [
      "Missing Data:\n",
      "category                0.00%\n",
      "scientific_name         0.00%\n",
      "common_names            0.00%\n",
      "conservation_status    96.72%\n",
      "dtype: object\n"
     ]
    }
   ],
   "source": [
    "maxRows = species_info['category'].count()\n",
    "print('Missing Data:')\n",
    "percent = (1 - species_info.count() / maxRows) * 100\n",
    "print(percent.apply(lambda x: '{:.2f}%'.format(x)))"
   ]
  },
  {
   "cell_type": "markdown",
   "metadata": {},
   "source": [
    "### Observations\n",
    "\n",
    "* The conservation_status column seem to contains mosty NaN values. Only about 3% non-missing values.\n",
    "* The other three columns do not seem to miss data."
   ]
  },
  {
   "cell_type": "markdown",
   "metadata": {},
   "source": [
    "### Categories for the columns"
   ]
  },
  {
   "cell_type": "code",
   "execution_count": 32,
   "metadata": {},
   "outputs": [
    {
     "name": "stdout",
     "output_type": "stream",
     "text": [
      "category\n",
      "Vascular Plant       4470\n",
      "Bird                  521\n",
      "Nonvascular Plant     333\n",
      "Mammal                214\n",
      "Fish                  127\n",
      "Amphibian              80\n",
      "Reptile                79\n",
      "Name: count, dtype: int64\n",
      "\n",
      "scientific_name\n",
      "Procyon lotor             3\n",
      "Myotis lucifugus          3\n",
      "Canis lupus               3\n",
      "Castor canadensis         3\n",
      "Hypochaeris radicata      3\n",
      "                         ..\n",
      "Solanum parishii          1\n",
      "Solanum xanti             1\n",
      "Parthenocissus vitacea    1\n",
      "Vitis californica         1\n",
      "Saxifraga oregana         1\n",
      "Name: count, Length: 5541, dtype: int64\n",
      "\n",
      "common_names\n",
      "Brachythecium Moss                                                            7\n",
      "Dicranum Moss                                                                 7\n",
      "Bryum Moss                                                                    6\n",
      "Panic Grass                                                                   6\n",
      "Sphagnum                                                                      6\n",
      "                                                                             ..\n",
      "Parish's Nightshade                                                           1\n",
      "Chaparral Nightshade, Purple Nightshade                                       1\n",
      "Thicket Creeper, Virginia Creeper, Woodbine                                   1\n",
      "California Grape, California Wild Grape                                       1\n",
      "Bullhead, Caltrop, Goathead, Mexican Sandbur, Puncture Vine, Texas Sandbur    1\n",
      "Name: count, Length: 5504, dtype: int64\n",
      "\n",
      "conservation_status\n",
      "Species of Concern    161\n",
      "Endangered             16\n",
      "Threatened             10\n",
      "In Recovery             4\n",
      "Name: count, dtype: int64\n"
     ]
    }
   ],
   "source": [
    "print(species_info.category.value_counts())\n",
    "print()\n",
    "print(species_info.scientific_name.value_counts())\n",
    "print()\n",
    "print(species_info.common_names.value_counts())\n",
    "print()\n",
    "print(species_info.conservation_status.value_counts())\n"
   ]
  },
  {
   "cell_type": "markdown",
   "metadata": {},
   "source": [
    "### Observations\n",
    "\n",
    "* The columns **category** and **conservation_status** contains substantial categories\n",
    "* About 80% of the \"animals\" in the dataset are **plants**.\n",
    "* The columns **scientific_name** and **common_names** contain strings, and are mostly different for each row\n",
    "* For **conservation_status** \n",
    "  * Only about 3% of the data are not missing\n",
    "  * The values 'Species of Concern', 'Endangered' and 'Threatened' seem to mean the same.  \n",
    "The fourth value 'In Recovery' seems also to mean 'of concern' but perhaps more specific."
   ]
  },
  {
   "cell_type": "markdown",
   "metadata": {},
   "source": [
    "### Missing conservation_status data by species category\n",
    "\n",
    "Let's see if there is a visible relationship between species category and missing data on conservation status."
   ]
  },
  {
   "cell_type": "code",
   "execution_count": 47,
   "metadata": {},
   "outputs": [
    {
     "name": "stdout",
     "output_type": "stream",
     "text": [
      "Missing conservation_status values by category:\n",
      "            category  missing_count\n",
      "0          Amphibian             73\n",
      "1               Bird            442\n",
      "2               Fish            116\n",
      "3             Mammal            176\n",
      "4  Nonvascular Plant            328\n",
      "5            Reptile             74\n",
      "6     Vascular Plant           4424\n"
     ]
    },
    {
     "data": {
      "image/png": "[encoded data removed]",
      "text/plain": [
       "<Figure size 800x500 with 1 Axes>"
      ]
     },
     "metadata": {},
     "output_type": "display_data"
    }
   ],
   "source": [
    "# Group the DataFrame by 'category' and count missing values in 'conservation_status'\n",
    "missing_counts = (\n",
    "    species_info.groupby('category')['conservation_status']\n",
    "      .apply(lambda x: x.isnull().sum())\n",
    "      .reset_index(name='missing_count')\n",
    ")\n",
    "\n",
    "print(\"Missing conservation_status values by category:\")\n",
    "print(missing_counts)\n",
    "\n",
    "# Plotting the corresponding bar chart\n",
    "plt.figure(figsize=(8, 5))\n",
    "plt.bar(missing_counts['category'], missing_counts['missing_count'], color='steelblue')\n",
    "plt.xlabel('Animal Category')\n",
    "plt.ylabel('Number of Missing Conservation Status')\n",
    "plt.title('Missing Conservation Status by Animal Category')\n",
    "plt.xticks(rotation=45)  # Rotate category labels if needed for clarity\n",
    "plt.tight_layout()       # Adjust layout to ensure everything fits without overlapping\n",
    "plt.show()"
   ]
  }
 ],
 "metadata": {
  "kernelspec": {
   "display_name": "Python 3",
   "language": "python",
   "name": "python3"
  },
  "language_info": {
   "codemirror_mode": {
    "name": "ipython",
    "version": 3
   },
   "file_extension": ".py",
   "mimetype": "text/x-python",
   "name": "python",
   "nbconvert_exporter": "python",
   "pygments_lexer": "ipython3",
   "version": "3.12.10"
  }
 },
 "nbformat": 4,
 "nbformat_minor": 4
}
